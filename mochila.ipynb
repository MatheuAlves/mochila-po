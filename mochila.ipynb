{
 "cells": [
  {
   "cell_type": "code",
   "execution_count": 2,
   "metadata": {},
   "outputs": [],
   "source": [
    "# -*- coding: utf-8 -*-\n",
    "import gurobipy as gp\n",
    "from gurobipy import GRB"
   ]
  },
  {
   "cell_type": "code",
   "execution_count": 51,
   "metadata": {},
   "outputs": [],
   "source": [
    "#Leitura de Arquivo\n",
    "with open('entrada.txt', 'r') as f:\n",
    "    linha = f.readline().strip()\n",
    "    n,m = map(int,linha.split())\n",
    "    linha = f.readline().strip()\n",
    "    b = list(map(float, linha.split()))\n",
    "    p = [None for i in range(n)]\n",
    "    w = [None for i in range(n)]\n",
    "    for i in range(n):\n",
    "        linha = f.readline().strip().split(' ')\n",
    "        p[i] = float(linha[0])\n",
    "        w[i] = float(linha[1])"
   ]
  },
  {
   "cell_type": "code",
   "execution_count": 52,
   "metadata": {},
   "outputs": [
    {
     "data": {
      "text/plain": [
       "10"
      ]
     },
     "execution_count": 52,
     "metadata": {},
     "output_type": "execute_result"
    }
   ],
   "source": [
    "# Cria um novo modelo\n",
    "model = gp.Model()\n",
    "model.setParam(GRB.Param.LogToConsole, 0)\n",
    "# Cria as variáveis do problema\n",
    "x = [model.addVar(lb=0, ub=1, vtype=GRB.BINARY) for i in range(n) for j in range (m)]\n",
    "len(x)"
   ]
  },
  {
   "cell_type": "code",
   "execution_count": 53,
   "metadata": {},
   "outputs": [],
   "source": [
    "# Define a função objetivo\n",
    "obj = gp.LinExpr()\n",
    "for i in range(n):\n",
    "    for j in range(m):\n",
    "        obj = obj + p[i] * x[j + i*m]\n",
    "model.setObjective(obj, sense=GRB.MAXIMIZE)"
   ]
  },
  {
   "cell_type": "code",
   "execution_count": 54,
   "metadata": {},
   "outputs": [
    {
     "name": "stdout",
     "output_type": "stream",
     "text": [
      "0 0 = 0\n",
      "0 1 = 2\n",
      "0 2 = 4\n",
      "0 3 = 6\n",
      "0 4 = 8\n",
      "1 0 = 1\n",
      "1 1 = 3\n",
      "1 2 = 5\n",
      "1 3 = 7\n",
      "1 4 = 9\n"
     ]
    }
   ],
   "source": [
    "# Define as restrições de capacidade de cada mochila\n",
    "for j in range(m):\n",
    "    exprm = gp.LinExpr()\n",
    "    for i in range(n):\n",
    "        exprm = exprm + w[i] * x[j + i*m]\n",
    "    model.addConstr(exprm <= b[j])\n",
    "    \n",
    "# Define as restrições de limite máximo 1 dos itens\n",
    "for i in range(n):\n",
    "    exprn = gp.LinExpr()\n",
    "    for j in range(m):\n",
    "        exprn = exprn + x[j + i*m]\n",
    "    model.addConstr(exprn <= 1)"
   ]
  },
  {
   "cell_type": "code",
   "execution_count": 63,
   "metadata": {},
   "outputs": [
    {
     "name": "stdout",
     "output_type": "stream",
     "text": [
      "---------------------------------------------------\n",
      "Solução Ótima\n",
      "---------------------------------------------------\n",
      "Valor da Função Objetivo: 23.0\n",
      "Itens da Mochila 0: [2]\n",
      "Itens da Mochila 1: [1, 3]\n"
     ]
    }
   ],
   "source": [
    "# Resolve o problema!\n",
    "model.optimize()\n",
    "\n",
    "# Dados da solução encontrada\n",
    "print('---------------------------------------------------')\n",
    "print(f'Solução Ótima')\n",
    "print('---------------------------------------------------')\n",
    "print(f'Valor da Função Objetivo: {round(model.objVal, 1)}')\n",
    "for j in range(m):\n",
    "    count = 0\n",
    "    print(f'Itens da Mochila {j}: [', end='')\n",
    "    for i in range(n):\n",
    "        if x[j+i*m].X:\n",
    "            if count == 0:\n",
    "                print(f'{i}', end='')\n",
    "                count += 1\n",
    "            else:\n",
    "                print(f', {i}', end='')\n",
    "    print(']')\n"
   ]
  }
 ],
 "metadata": {
  "kernelspec": {
   "display_name": "Python 3",
   "language": "python",
   "name": "python3"
  },
  "language_info": {
   "codemirror_mode": {
    "name": "ipython",
    "version": 3
   },
   "file_extension": ".py",
   "mimetype": "text/x-python",
   "name": "python",
   "nbconvert_exporter": "python",
   "pygments_lexer": "ipython3",
   "version": "3.12.0"
  }
 },
 "nbformat": 4,
 "nbformat_minor": 2
}
