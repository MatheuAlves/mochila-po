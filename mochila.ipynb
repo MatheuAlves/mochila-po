{
 "cells": [
  {
   "cell_type": "code",
   "execution_count": 33,
   "metadata": {},
   "outputs": [],
   "source": [
    "import gurobipy as gp\n",
    "from gurobipy import GRB"
   ]
  },
  {
   "cell_type": "code",
   "execution_count": 45,
   "metadata": {},
   "outputs": [],
   "source": [
    "#Leitura de Arquivo\n",
    "with open('entrada.txt', 'r') as f:\n",
    "    linha = f.readline().strip()\n",
    "    n,m = map(int,linha.split())\n",
    "    linha = f.readline().strip()\n",
    "    b = list(map(float, linha.split()))\n",
    "    p = [None for i in range(n)]\n",
    "    w = [None for i in range(n)]\n",
    "    for i in range(n):\n",
    "        linha = f.readline().strip().split(' ')\n",
    "        p[i] = float(linha[0])\n",
    "        w[i] = float(linha[1])"
   ]
  },
  {
   "cell_type": "code",
   "execution_count": 46,
   "metadata": {},
   "outputs": [
    {
     "data": {
      "text/plain": [
       "8"
      ]
     },
     "execution_count": 46,
     "metadata": {},
     "output_type": "execute_result"
    }
   ],
   "source": [
    "# Cria um novo modelo\n",
    "model = gp.Model()\n",
    "model.setParam(GRB.Param.LogToConsole, 0)\n",
    "# Cria as variáveis do problema\n",
    "x = [model.addVar(lb=0, ub=1, vtype=GRB.BINARY) for i in range(n) for j in range (m)]\n",
    "len(x)"
   ]
  },
  {
   "cell_type": "code",
   "execution_count": 50,
   "metadata": {},
   "outputs": [
    {
     "name": "stdout",
     "output_type": "stream",
     "text": [
      "<gurobi.Model Continuous instance Unnamed: 0 constrs, 0 vars, Parameter changes: Username=(user-defined), LogToConsole=0>\n"
     ]
    }
   ],
   "source": [
    "# Define a função objetivo\n",
    "obj = gp.LinExpr()\n",
    "for j in range(m):\n",
    "    for i in range(n):\n",
    "        obj = obj + p[i] * x[i + j*n - 1]\n",
    "model.setObjective(obj, sense=GRB.MAXIMIZE)"
   ]
  },
  {
   "cell_type": "code",
   "execution_count": 52,
   "metadata": {},
   "outputs": [],
   "source": [
    "# Define as restrições de capacidade de cada mochila\n",
    "for j in range(m):\n",
    "    exprm = gp.LinExpr()\n",
    "    for i in range(n):\n",
    "        exprm = exprm + w[i] * x[i + j*n - 1]\n",
    "    model.addConstr(exprm <= b[j])\n",
    "    \n",
    "# Define as restrições de limite máximo 1 dos itens\n",
    "for i in range(n):\n",
    "    exprn = gp.LinExpr()\n",
    "    for j in range(m):\n",
    "        exprn = exprn + x[j + i*m - 1]\n",
    "    model.addConstr(exprn <= 1)"
   ]
  },
  {
   "cell_type": "code",
   "execution_count": 53,
   "metadata": {},
   "outputs": [
    {
     "name": "stdout",
     "output_type": "stream",
     "text": [
      "Objetivo: 206\n",
      "x[1] = 1.0\n",
      "x[2] = 0.0\n",
      "x[3] = 0.0\n",
      "x[4] = 0.0\n"
     ]
    }
   ],
   "source": [
    "# Resolve o problema!\n",
    "model.optimize()\n",
    "\n",
    "# Dados da solução encontrada\n",
    "print(f'Objetivo: {round(model.objVal)}')\n",
    "for i in range(n):\n",
    "    print(f'x[{i+1}] = {round(x[i].X, 2)}')"
   ]
  }
 ],
 "metadata": {
  "kernelspec": {
   "display_name": "Python 3",
   "language": "python",
   "name": "python3"
  },
  "language_info": {
   "codemirror_mode": {
    "name": "ipython",
    "version": 3
   },
   "file_extension": ".py",
   "mimetype": "text/x-python",
   "name": "python",
   "nbconvert_exporter": "python",
   "pygments_lexer": "ipython3",
   "version": "3.12.2"
  }
 },
 "nbformat": 4,
 "nbformat_minor": 2
}
